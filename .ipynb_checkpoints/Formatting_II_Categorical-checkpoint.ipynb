{
 "cells": [
  {
   "cell_type": "markdown",
   "id": "9f156965",
   "metadata": {},
   "source": [
    "<center><img src=\"https://i.imgur.com/zRrFdsf.png\" width=\"700\"></center>\n",
    "\n",
    "# Data Formatting (categorical)\n",
    "\n",
    "\n",
    "In this formatting tutorial we will see the categorical case.\n",
    "\n",
    "\n",
    "Let's get [some data](https://en.wikipedia.org/wiki/List_of_freedom_indices):"
   ]
  },
  {
   "cell_type": "code",
   "execution_count": 1,
   "id": "1923bc8b",
   "metadata": {},
   "outputs": [
    {
     "ename": "ImportError",
     "evalue": "html5lib not found, please install it",
     "output_type": "error",
     "traceback": [
      "\u001b[1;31m---------------------------------------------------------------------------\u001b[0m",
      "\u001b[1;31mImportError\u001b[0m                               Traceback (most recent call last)",
      "\u001b[1;32m~\\AppData\\Local\\Temp\\ipykernel_5492\\1400045105.py\u001b[0m in \u001b[0;36m<module>\u001b[1;34m\u001b[0m\n\u001b[0;32m      2\u001b[0m \u001b[1;33m\u001b[0m\u001b[0m\n\u001b[0;32m      3\u001b[0m \u001b[0mlink\u001b[0m\u001b[1;33m=\u001b[0m\u001b[1;34m'https://en.wikipedia.org/wiki/List_of_freedom_indices'\u001b[0m\u001b[1;33m\u001b[0m\u001b[1;33m\u001b[0m\u001b[0m\n\u001b[1;32m----> 4\u001b[1;33m \u001b[0mfreeDFs\u001b[0m\u001b[1;33m=\u001b[0m\u001b[0mpd\u001b[0m\u001b[1;33m.\u001b[0m\u001b[0mread_html\u001b[0m\u001b[1;33m(\u001b[0m\u001b[0mlink\u001b[0m\u001b[1;33m,\u001b[0m\u001b[0mflavor\u001b[0m\u001b[1;33m=\u001b[0m\u001b[1;34m'bs4'\u001b[0m\u001b[1;33m,\u001b[0m\u001b[0mmatch\u001b[0m\u001b[1;33m=\u001b[0m\u001b[1;34m'w'\u001b[0m\u001b[1;33m,\u001b[0m\u001b[0mattrs\u001b[0m\u001b[1;33m=\u001b[0m\u001b[1;33m{\u001b[0m\u001b[1;34m'class'\u001b[0m\u001b[1;33m:\u001b[0m\u001b[1;34m\"wikitable\"\u001b[0m\u001b[1;33m}\u001b[0m\u001b[1;33m)\u001b[0m\u001b[1;33m\u001b[0m\u001b[1;33m\u001b[0m\u001b[0m\n\u001b[0m\u001b[0;32m      5\u001b[0m \u001b[1;33m\u001b[0m\u001b[0m\n\u001b[0;32m      6\u001b[0m \u001b[1;31m# how many tables?\u001b[0m\u001b[1;33m\u001b[0m\u001b[1;33m\u001b[0m\u001b[0m\n",
      "\u001b[1;32mC:\\ProgramData\\Anaconda3\\lib\\site-packages\\pandas\\util\\_decorators.py\u001b[0m in \u001b[0;36mwrapper\u001b[1;34m(*args, **kwargs)\u001b[0m\n\u001b[0;32m    309\u001b[0m                     \u001b[0mstacklevel\u001b[0m\u001b[1;33m=\u001b[0m\u001b[0mstacklevel\u001b[0m\u001b[1;33m,\u001b[0m\u001b[1;33m\u001b[0m\u001b[1;33m\u001b[0m\u001b[0m\n\u001b[0;32m    310\u001b[0m                 )\n\u001b[1;32m--> 311\u001b[1;33m             \u001b[1;32mreturn\u001b[0m \u001b[0mfunc\u001b[0m\u001b[1;33m(\u001b[0m\u001b[1;33m*\u001b[0m\u001b[0margs\u001b[0m\u001b[1;33m,\u001b[0m \u001b[1;33m**\u001b[0m\u001b[0mkwargs\u001b[0m\u001b[1;33m)\u001b[0m\u001b[1;33m\u001b[0m\u001b[1;33m\u001b[0m\u001b[0m\n\u001b[0m\u001b[0;32m    312\u001b[0m \u001b[1;33m\u001b[0m\u001b[0m\n\u001b[0;32m    313\u001b[0m         \u001b[1;32mreturn\u001b[0m \u001b[0mwrapper\u001b[0m\u001b[1;33m\u001b[0m\u001b[1;33m\u001b[0m\u001b[0m\n",
      "\u001b[1;32mC:\\ProgramData\\Anaconda3\\lib\\site-packages\\pandas\\io\\html.py\u001b[0m in \u001b[0;36mread_html\u001b[1;34m(io, match, flavor, header, index_col, skiprows, attrs, parse_dates, thousands, encoding, decimal, converters, na_values, keep_default_na, displayed_only)\u001b[0m\n\u001b[0;32m   1111\u001b[0m     \u001b[0mio\u001b[0m \u001b[1;33m=\u001b[0m \u001b[0mstringify_path\u001b[0m\u001b[1;33m(\u001b[0m\u001b[0mio\u001b[0m\u001b[1;33m)\u001b[0m\u001b[1;33m\u001b[0m\u001b[1;33m\u001b[0m\u001b[0m\n\u001b[0;32m   1112\u001b[0m \u001b[1;33m\u001b[0m\u001b[0m\n\u001b[1;32m-> 1113\u001b[1;33m     return _parse(\n\u001b[0m\u001b[0;32m   1114\u001b[0m         \u001b[0mflavor\u001b[0m\u001b[1;33m=\u001b[0m\u001b[0mflavor\u001b[0m\u001b[1;33m,\u001b[0m\u001b[1;33m\u001b[0m\u001b[1;33m\u001b[0m\u001b[0m\n\u001b[0;32m   1115\u001b[0m         \u001b[0mio\u001b[0m\u001b[1;33m=\u001b[0m\u001b[0mio\u001b[0m\u001b[1;33m,\u001b[0m\u001b[1;33m\u001b[0m\u001b[1;33m\u001b[0m\u001b[0m\n",
      "\u001b[1;32mC:\\ProgramData\\Anaconda3\\lib\\site-packages\\pandas\\io\\html.py\u001b[0m in \u001b[0;36m_parse\u001b[1;34m(flavor, io, match, attrs, encoding, displayed_only, **kwargs)\u001b[0m\n\u001b[0;32m    913\u001b[0m     \u001b[0mretained\u001b[0m \u001b[1;33m=\u001b[0m \u001b[1;32mNone\u001b[0m\u001b[1;33m\u001b[0m\u001b[1;33m\u001b[0m\u001b[0m\n\u001b[0;32m    914\u001b[0m     \u001b[1;32mfor\u001b[0m \u001b[0mflav\u001b[0m \u001b[1;32min\u001b[0m \u001b[0mflavor\u001b[0m\u001b[1;33m:\u001b[0m\u001b[1;33m\u001b[0m\u001b[1;33m\u001b[0m\u001b[0m\n\u001b[1;32m--> 915\u001b[1;33m         \u001b[0mparser\u001b[0m \u001b[1;33m=\u001b[0m \u001b[0m_parser_dispatch\u001b[0m\u001b[1;33m(\u001b[0m\u001b[0mflav\u001b[0m\u001b[1;33m)\u001b[0m\u001b[1;33m\u001b[0m\u001b[1;33m\u001b[0m\u001b[0m\n\u001b[0m\u001b[0;32m    916\u001b[0m         \u001b[0mp\u001b[0m \u001b[1;33m=\u001b[0m \u001b[0mparser\u001b[0m\u001b[1;33m(\u001b[0m\u001b[0mio\u001b[0m\u001b[1;33m,\u001b[0m \u001b[0mcompiled_match\u001b[0m\u001b[1;33m,\u001b[0m \u001b[0mattrs\u001b[0m\u001b[1;33m,\u001b[0m \u001b[0mencoding\u001b[0m\u001b[1;33m,\u001b[0m \u001b[0mdisplayed_only\u001b[0m\u001b[1;33m)\u001b[0m\u001b[1;33m\u001b[0m\u001b[1;33m\u001b[0m\u001b[0m\n\u001b[0;32m    917\u001b[0m \u001b[1;33m\u001b[0m\u001b[0m\n",
      "\u001b[1;32mC:\\ProgramData\\Anaconda3\\lib\\site-packages\\pandas\\io\\html.py\u001b[0m in \u001b[0;36m_parser_dispatch\u001b[1;34m(flavor)\u001b[0m\n\u001b[0;32m    862\u001b[0m     \u001b[1;32mif\u001b[0m \u001b[0mflavor\u001b[0m \u001b[1;32min\u001b[0m \u001b[1;33m(\u001b[0m\u001b[1;34m\"bs4\"\u001b[0m\u001b[1;33m,\u001b[0m \u001b[1;34m\"html5lib\"\u001b[0m\u001b[1;33m)\u001b[0m\u001b[1;33m:\u001b[0m\u001b[1;33m\u001b[0m\u001b[1;33m\u001b[0m\u001b[0m\n\u001b[0;32m    863\u001b[0m         \u001b[1;32mif\u001b[0m \u001b[1;32mnot\u001b[0m \u001b[0m_HAS_HTML5LIB\u001b[0m\u001b[1;33m:\u001b[0m\u001b[1;33m\u001b[0m\u001b[1;33m\u001b[0m\u001b[0m\n\u001b[1;32m--> 864\u001b[1;33m             \u001b[1;32mraise\u001b[0m \u001b[0mImportError\u001b[0m\u001b[1;33m(\u001b[0m\u001b[1;34m\"html5lib not found, please install it\"\u001b[0m\u001b[1;33m)\u001b[0m\u001b[1;33m\u001b[0m\u001b[1;33m\u001b[0m\u001b[0m\n\u001b[0m\u001b[0;32m    865\u001b[0m         \u001b[1;32mif\u001b[0m \u001b[1;32mnot\u001b[0m \u001b[0m_HAS_BS4\u001b[0m\u001b[1;33m:\u001b[0m\u001b[1;33m\u001b[0m\u001b[1;33m\u001b[0m\u001b[0m\n\u001b[0;32m    866\u001b[0m             \u001b[1;32mraise\u001b[0m \u001b[0mImportError\u001b[0m\u001b[1;33m(\u001b[0m\u001b[1;34m\"BeautifulSoup4 (bs4) not found, please install it\"\u001b[0m\u001b[1;33m)\u001b[0m\u001b[1;33m\u001b[0m\u001b[1;33m\u001b[0m\u001b[0m\n",
      "\u001b[1;31mImportError\u001b[0m: html5lib not found, please install it"
     ]
    }
   ],
   "source": [
    "import pandas as pd\n",
    "\n",
    "link='https://en.wikipedia.org/wiki/List_of_freedom_indices'\n",
    "freeDFs=pd.read_html(link,flavor='bs4',match='w',attrs={'class':\"wikitable\"})\n",
    "\n",
    "# how many tables?\n",
    "len(freeDFs)"
   ]
  },
  {
   "cell_type": "code",
   "execution_count": null,
   "id": "ea63ec2f",
   "metadata": {},
   "outputs": [],
   "source": [
    "#is this one?\n",
    "freeDFs[0]"
   ]
  },
  {
   "cell_type": "markdown",
   "id": "7b58c223",
   "metadata": {},
   "source": [
    "Then, you want the second table:"
   ]
  },
  {
   "cell_type": "code",
   "execution_count": null,
   "id": "d9b41db7",
   "metadata": {
    "scrolled": true
   },
   "outputs": [],
   "source": [
    "allFree=freeDFs[1]\n",
    "allFree.head()"
   ]
  },
  {
   "cell_type": "markdown",
   "id": "6442b690",
   "metadata": {},
   "source": [
    "Cleaning column names:"
   ]
  },
  {
   "cell_type": "code",
   "execution_count": null,
   "id": "0f614a66",
   "metadata": {},
   "outputs": [],
   "source": [
    "allFree.columns"
   ]
  },
  {
   "cell_type": "markdown",
   "id": "a6f48526",
   "metadata": {},
   "source": [
    "This is a good alternative:"
   ]
  },
  {
   "cell_type": "code",
   "execution_count": null,
   "id": "8baaa5dc",
   "metadata": {},
   "outputs": [],
   "source": [
    "allFree.columns.str.replace(r\"\\W|\\d\",\"\",regex=True)"
   ]
  },
  {
   "cell_type": "code",
   "execution_count": null,
   "id": "83b2aa30",
   "metadata": {},
   "outputs": [],
   "source": [
    "#then\n",
    "allFree.columns=allFree.columns.str.replace(r\"\\W|\\d\",\"\",regex=True)"
   ]
  },
  {
   "cell_type": "markdown",
   "id": "f35512e0",
   "metadata": {},
   "source": [
    "Let's clean all the leading/trailing space in every cell:"
   ]
  },
  {
   "cell_type": "code",
   "execution_count": null,
   "id": "51ba6646",
   "metadata": {},
   "outputs": [],
   "source": [
    "# this code breaks if applied to numeric columns\n",
    "allFree=allFree.apply(lambda x: x.str.strip())"
   ]
  },
  {
   "cell_type": "markdown",
   "id": "a7ade228",
   "metadata": {},
   "source": [
    "Do we have unique country names?"
   ]
  },
  {
   "cell_type": "code",
   "execution_count": null,
   "id": "62f8de26",
   "metadata": {},
   "outputs": [],
   "source": [
    "len(allFree.Country)==len(pd.unique(allFree.Country))"
   ]
  },
  {
   "cell_type": "markdown",
   "id": "68cad36e",
   "metadata": {},
   "source": [
    "Let's start formatting:"
   ]
  },
  {
   "cell_type": "code",
   "execution_count": null,
   "id": "e9c7a73d",
   "metadata": {},
   "outputs": [],
   "source": [
    "# check current data types:\n",
    "allFree.info()"
   ]
  },
  {
   "cell_type": "markdown",
   "id": "e720cf7c",
   "metadata": {},
   "source": [
    "We see every column is just of the object type. Instead of frequency tables, check unique values:"
   ]
  },
  {
   "cell_type": "code",
   "execution_count": null,
   "id": "e553e725",
   "metadata": {},
   "outputs": [],
   "source": [
    "[list(allFree[c].sort_values().unique()) for c in allFree.columns[1:]]"
   ]
  },
  {
   "cell_type": "markdown",
   "id": "83d8759b",
   "metadata": {},
   "source": [
    "You wanted to check for mistakes like ['free', 'not free', 'partly free', 'Free']. The cells are clean."
   ]
  },
  {
   "cell_type": "markdown",
   "id": "432a81b5",
   "metadata": {},
   "source": [
    "Now, let's turn the values into **ordinal** categories. Remember that the worst, best and middle values should be comparable:"
   ]
  },
  {
   "cell_type": "code",
   "execution_count": null,
   "id": "0ea93452",
   "metadata": {},
   "outputs": [],
   "source": [
    "mapper1 = {'not free': 1,'partly free': 3, 'free':5 }\n",
    "allFree.FreedomintheWorld.replace(mapper1,inplace=True)\n",
    "\n",
    "mapper2 = {'repressed':1, 'mostly unfree':2,'moderately free':3, 'mostly free':4, 'free':5}\n",
    "allFree.IndexofEconomicFreedom.replace(mapper2,inplace=True)\n",
    "\n",
    "\n",
    "mapper3 = {'very serious situation':1,'difficult situation':2, 'noticeable problems':3,\n",
    "           'satisfactory situation':4,'good situation':5}\n",
    "allFree.PressFreedomIndex.replace(mapper3,inplace=True)\n",
    "\n",
    "mapper4 = {'authoritarian regime':1, 'hybrid regime':2,'flawed democracy':3,'full democracy':5}\n",
    "allFree.DemocracyIndex.replace(mapper4,inplace=True)\n"
   ]
  },
  {
   "cell_type": "code",
   "execution_count": null,
   "id": "742de9d3",
   "metadata": {},
   "outputs": [],
   "source": [
    "allFree"
   ]
  },
  {
   "cell_type": "markdown",
   "id": "0dc96aaa",
   "metadata": {},
   "source": [
    "Let's explore:"
   ]
  },
  {
   "cell_type": "code",
   "execution_count": null,
   "id": "720b58c4",
   "metadata": {},
   "outputs": [],
   "source": [
    "#check types:\n",
    "allFree.info()"
   ]
  },
  {
   "cell_type": "code",
   "execution_count": null,
   "id": "0a14a21e",
   "metadata": {},
   "outputs": [],
   "source": [
    "# what about\n",
    "allFree[allFree.columns[1:]]=allFree.iloc[:,1:].apply(lambda x: x.astype('Int64'))"
   ]
  },
  {
   "cell_type": "code",
   "execution_count": null,
   "id": "4828ffc8",
   "metadata": {},
   "outputs": [],
   "source": [
    "#then\n",
    "allFree.info()"
   ]
  },
  {
   "cell_type": "markdown",
   "id": "89342f19",
   "metadata": {},
   "source": [
    "However, these are not yet ordinal. Let's do it:"
   ]
  },
  {
   "cell_type": "code",
   "execution_count": null,
   "id": "e21f045b",
   "metadata": {},
   "outputs": [],
   "source": [
    "from pandas.api.types import CategoricalDtype\n",
    "\n",
    "order = CategoricalDtype(categories=[1,2,3,4,5], ordered=True)\n",
    "allFree.iloc[:,1:].apply(lambda x:x.astype(order)).info()"
   ]
  },
  {
   "cell_type": "code",
   "execution_count": null,
   "id": "71af28f8",
   "metadata": {},
   "outputs": [],
   "source": [
    "# create some new names:\n",
    "newNames=allFree.columns[1:]+'_ord'\n",
    "#see\n",
    "newNames"
   ]
  },
  {
   "cell_type": "code",
   "execution_count": null,
   "id": "80aff81e",
   "metadata": {},
   "outputs": [],
   "source": [
    "allFree[newNames]=allFree.iloc[:,1:].apply(lambda x:x.astype(order))"
   ]
  },
  {
   "cell_type": "code",
   "execution_count": null,
   "id": "82046fb5",
   "metadata": {},
   "outputs": [],
   "source": [
    "allFree.info()"
   ]
  },
  {
   "cell_type": "code",
   "execution_count": null,
   "id": "df5a5224",
   "metadata": {},
   "outputs": [],
   "source": [
    "allFree.IndexofEconomicFreedom_ord"
   ]
  },
  {
   "cell_type": "markdown",
   "id": "7bddfe25",
   "metadata": {},
   "source": [
    "You may want to rename them:"
   ]
  },
  {
   "cell_type": "code",
   "execution_count": null,
   "id": "98024763",
   "metadata": {},
   "outputs": [],
   "source": [
    "ordCats={1:'veryLow',2:'low',3:'medium',4:'good',5:'veryGood'}\n",
    "\n",
    "turnToOrdinal= lambda x:x.cat.rename_categories(ordCats)\n",
    "\n",
    "allFree.iloc[:,5:].apply(turnToOrdinal)"
   ]
  },
  {
   "cell_type": "code",
   "execution_count": null,
   "id": "f916d049",
   "metadata": {},
   "outputs": [],
   "source": [
    "allFree[newNames]=allFree.iloc[:,5:].apply(turnToOrdinal)\n",
    "\n",
    "# see\n",
    "allFree.head(10)"
   ]
  },
  {
   "cell_type": "markdown",
   "id": "a42df45e",
   "metadata": {},
   "source": [
    "Let's keep this last result, but this let me show you the use of **pickle** format:"
   ]
  },
  {
   "cell_type": "code",
   "execution_count": null,
   "id": "161406d7",
   "metadata": {},
   "outputs": [],
   "source": [
    "#saving\n",
    "\n",
    "import os \n",
    "\n",
    "allFree.to_csv(os.path.join(\"data\",\"allFree.csv\"),index=False )\n",
    "allFree.to_pickle(os.path.join(\"data\",\"allFree.pkl\") )"
   ]
  },
  {
   "cell_type": "code",
   "execution_count": null,
   "id": "43d07085",
   "metadata": {},
   "outputs": [],
   "source": [
    "#reading\n",
    "\n",
    "dfPickle=pd.read_pickle(os.path.join(\"data\",\"allFree.pkl\") )  \n",
    "dfCSV=pd.read_csv(os.path.join(\"data\",\"allFree.csv\") )  "
   ]
  },
  {
   "cell_type": "markdown",
   "id": "cce1b3a2",
   "metadata": {},
   "source": [
    "Now, notice the difference when you have categorical data:"
   ]
  },
  {
   "cell_type": "code",
   "execution_count": null,
   "id": "6cefa4b8",
   "metadata": {},
   "outputs": [],
   "source": [
    "dfPickle.info()"
   ]
  },
  {
   "cell_type": "code",
   "execution_count": null,
   "id": "1d27a302",
   "metadata": {},
   "outputs": [],
   "source": [
    "dfCSV.info()"
   ]
  },
  {
   "cell_type": "code",
   "execution_count": null,
   "id": "3def84ae",
   "metadata": {},
   "outputs": [],
   "source": [
    "# the file kept the data type\n",
    "dfPickle.DemocracyIndex_ord"
   ]
  },
  {
   "cell_type": "code",
   "execution_count": null,
   "id": "182bd92b",
   "metadata": {},
   "outputs": [],
   "source": [
    "# the file did not keep the data type\n",
    "dfCSV.DemocracyIndex_ord"
   ]
  }
 ],
 "metadata": {
  "kernelspec": {
   "display_name": "Python 3 (ipykernel)",
   "language": "python",
   "name": "python3"
  },
  "language_info": {
   "codemirror_mode": {
    "name": "ipython",
    "version": 3
   },
   "file_extension": ".py",
   "mimetype": "text/x-python",
   "name": "python",
   "nbconvert_exporter": "python",
   "pygments_lexer": "ipython3",
   "version": "3.9.13"
  }
 },
 "nbformat": 4,
 "nbformat_minor": 5
}
